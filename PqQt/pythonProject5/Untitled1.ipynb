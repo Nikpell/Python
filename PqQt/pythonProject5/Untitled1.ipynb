{
 "cells": [
  {
   "cell_type": "code",
   "execution_count": 1,
   "id": "f7aba3ea",
   "metadata": {},
   "outputs": [],
   "source": [
    "import math\n",
    "import numpy as np\n",
    "import matplotlib.pyplot as plt"
   ]
  },
  {
   "cell_type": "code",
   "execution_count": 2,
   "id": "2a08d28c",
   "metadata": {},
   "outputs": [],
   "source": [
    "a, b, c = 5, 10, -30"
   ]
  },
  {
   "cell_type": "code",
   "execution_count": 3,
   "id": "f6809584",
   "metadata": {},
   "outputs": [],
   "source": [
    "interval, step = 10, 0.01"
   ]
  },
  {
   "cell_type": "code",
   "execution_count": 4,
   "id": "965b09f4",
   "metadata": {},
   "outputs": [],
   "source": [
    "x = np.arange(-interval, interval + step, step)"
   ]
  },
  {
   "cell_type": "code",
   "execution_count": 5,
   "id": "3b92bead",
   "metadata": {},
   "outputs": [],
   "source": [
    "def func(x):\n",
    "    function = a * x ** 2 + b * x + c\n",
    "    return function"
   ]
  },
  {
   "cell_type": "code",
   "execution_count": 6,
   "id": "16c6f0fd",
   "metadata": {},
   "outputs": [],
   "source": [
    "def sqr_roots(a, b, c):\n",
    "    dscrt = b ** 2 - 4 * a * c\n",
    "    if dscrt > 0:\n",
    "        x1 = (-b + math.sqrt(dscrt)) / (2 * a)\n",
    "        x2 = (-b - math.sqrt(dscrt)) / (2 * a)\n",
    "        return (x1, x2)\n",
    "    elif dscrt == 0:\n",
    "        x = -b / (2 * a)\n",
    "        return x\n",
    "    else:\n",
    "        return None"
   ]
  },
  {
   "cell_type": "code",
   "execution_count": 8,
   "id": "6bbfd965",
   "metadata": {},
   "outputs": [
    {
     "name": "stdout",
     "output_type": "stream",
     "text": [
      "1.65 -3.65\n"
     ]
    }
   ],
   "source": [
    "print(round(sqr_roots(a, b, c)[0], 2), round(sqr_roots(a, b, c)[1], 2))"
   ]
  },
  {
   "cell_type": "code",
   "execution_count": 9,
   "id": "3eb45308",
   "metadata": {},
   "outputs": [],
   "source": [
    "min_func = min(func(x))"
   ]
  },
  {
   "cell_type": "code",
   "execution_count": 10,
   "id": "ad43b819",
   "metadata": {},
   "outputs": [
    {
     "name": "stdout",
     "output_type": "stream",
     "text": [
      "-35.0\n"
     ]
    }
   ],
   "source": [
    "print(min_func)"
   ]
  },
  {
   "cell_type": "code",
   "execution_count": 11,
   "id": "6609bd34",
   "metadata": {},
   "outputs": [],
   "source": [
    "x = sqr_roots(a, b, c - min_func)"
   ]
  },
  {
   "cell_type": "code",
   "execution_count": 12,
   "id": "19122500",
   "metadata": {},
   "outputs": [
    {
     "name": "stdout",
     "output_type": "stream",
     "text": [
      "-1.0\n"
     ]
    }
   ],
   "source": [
    "print(x)"
   ]
  },
  {
   "cell_type": "code",
   "execution_count": null,
   "id": "add17535",
   "metadata": {},
   "outputs": [],
   "source": [
    "def change_func(x):\n",
    "    x1 = round(sqr_roots(a, b, c)[0], 2)\n",
    "    x2 = round(sqr_roots(a, b, c)[1], 2)\n",
    "    \n",
    "    x_range_down_positive = np.arange(-interval, x1 if x1 < x2, else x2, step)\n",
    "    x_range_down_negative = np.arange(x1 if x1 < x2, else x2, x, step)\n",
    "    x_range_up_negative = np.arange(x, x1 if x1 < x2, else x2, step)\n",
    "    x_range_up_positive = np.arange(x2 if x1 < x2, else x1, interval + step, step)\n",
    "    \n",
    "    plt.title(f'Корни функции: {x1}, {x2}')\n",
    "    plt.xlabel('Ось X')\n",
    "    plt.ylabel('Ось Y')\n",
    "    plt.grid()\n",
    "    plt.plot(x_range_down_positive, func(x_range_down_positive, 'r', label='Убывание больше 0'))\n",
    "    plt.rcParams['lines.linestyle'] = '-.'\n",
    "    plt.plot(x_range_down_positive, func(x_range_down_positive, 'r', label='Убывание больше 0'))"
   ]
  }
 ],
 "metadata": {
  "kernelspec": {
   "display_name": "Python 3 (ipykernel)",
   "language": "python",
   "name": "python3"
  },
  "language_info": {
   "codemirror_mode": {
    "name": "ipython",
    "version": 3
   },
   "file_extension": ".py",
   "mimetype": "text/x-python",
   "name": "python",
   "nbconvert_exporter": "python",
   "pygments_lexer": "ipython3",
   "version": "3.10.6"
  }
 },
 "nbformat": 4,
 "nbformat_minor": 5
}
