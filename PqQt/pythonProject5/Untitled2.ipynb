{
 "cells": [
  {
   "cell_type": "code",
   "execution_count": 1,
   "id": "3e3d71bc",
   "metadata": {},
   "outputs": [],
   "source": [
    "\n",
    "# f(x) = -12x^4*sin(cos(x)) - 18x^3+5x^2 + 10x - 30\n",
    "\n",
    "# Определить корни\n",
    "\n",
    "# Найти интервалы, на которых функция возрастает\n",
    "\n",
    "# Найти интервалы, на которых функция убывает\n",
    "\n",
    "# Построить график\n",
    "\n",
    "# Вычислить вершину\n",
    "\n",
    "# Определить промежутки, на котором f > 0\n",
    "\n",
    "# Определить промежутки, на котором f < 0\n",
    "\n",
    "import math\n",
    "import numpy as np\n",
    "import matplotlib.pyplot as plt"
   ]
  },
  {
   "cell_type": "code",
   "execution_count": 2,
   "id": "1e4f3339",
   "metadata": {},
   "outputs": [],
   "source": [
    "interval, step = 10, 0.01\n",
    "x = np.arange(-interval, interval + step, step)"
   ]
  },
  {
   "cell_type": "code",
   "execution_count": 3,
   "id": "52eaa863",
   "metadata": {},
   "outputs": [],
   "source": [
    "def func(x):\n",
    "    function = -12 * x ** 4 * sin *(cos(x) - 18 * x ** 3 + 5 * x ** 2 + 10 * x - 30)\n",
    "    return function"
   ]
  },
  {
   "cell_type": "code",
   "execution_count": null,
   "id": "0b32d4c8",
   "metadata": {},
   "outputs": [],
   "source": []
  }
 ],
 "metadata": {
  "kernelspec": {
   "display_name": "Python 3 (ipykernel)",
   "language": "python",
   "name": "python3"
  },
  "language_info": {
   "codemirror_mode": {
    "name": "ipython",
    "version": 3
   },
   "file_extension": ".py",
   "mimetype": "text/x-python",
   "name": "python",
   "nbconvert_exporter": "python",
   "pygments_lexer": "ipython3",
   "version": "3.10.6"
  }
 },
 "nbformat": 4,
 "nbformat_minor": 5
}
